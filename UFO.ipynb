{
  "nbformat": 4,
  "nbformat_minor": 0,
  "metadata": {
    "colab": {
      "name": "UFO",
      "provenance": [],
      "collapsed_sections": [],
      "include_colab_link": true
    },
    "kernelspec": {
      "name": "python3",
      "display_name": "Python 3"
    }
  },
  "cells": [
    {
      "cell_type": "markdown",
      "metadata": {
        "id": "view-in-github",
        "colab_type": "text"
      },
      "source": [
        "<a href=\"https://colab.research.google.com/github/Jllin50/UFO/blob/master/UFO.ipynb\" target=\"_parent\"><img src=\"https://colab.research.google.com/assets/colab-badge.svg\" alt=\"Open In Colab\"/></a>"
      ]
    },
    {
      "cell_type": "code",
      "metadata": {
        "id": "tIdFheUBr0px",
        "colab_type": "code",
        "colab": {
          "base_uri": "https://localhost:8080/",
          "height": 208
        },
        "outputId": "c78afb30-d451-488e-939e-9cb479e8eef9"
      },
      "source": [
        "!pip install maya"
      ],
      "execution_count": 27,
      "outputs": [
        {
          "output_type": "stream",
          "text": [
            "Requirement already satisfied: maya in /usr/local/lib/python3.6/dist-packages (0.6.1)\n",
            "Requirement already satisfied: dateparser>=0.7.0 in /usr/local/lib/python3.6/dist-packages (from maya) (0.7.2)\n",
            "Requirement already satisfied: snaptime in /usr/local/lib/python3.6/dist-packages (from maya) (0.2.4)\n",
            "Requirement already satisfied: humanize in /usr/local/lib/python3.6/dist-packages (from maya) (0.5.1)\n",
            "Requirement already satisfied: pendulum>=2.0.2 in /usr/local/lib/python3.6/dist-packages (from maya) (2.0.5)\n",
            "Requirement already satisfied: tzlocal in /usr/local/lib/python3.6/dist-packages (from maya) (1.5.1)\n",
            "Requirement already satisfied: pytz in /usr/local/lib/python3.6/dist-packages (from maya) (2018.9)\n",
            "Requirement already satisfied: regex in /usr/local/lib/python3.6/dist-packages (from dateparser>=0.7.0->maya) (2019.12.20)\n",
            "Requirement already satisfied: python-dateutil in /usr/local/lib/python3.6/dist-packages (from dateparser>=0.7.0->maya) (2.6.1)\n",
            "Requirement already satisfied: pytzdata>=2018.3 in /usr/local/lib/python3.6/dist-packages (from pendulum>=2.0.2->maya) (2019.3)\n",
            "Requirement already satisfied: six>=1.5 in /usr/local/lib/python3.6/dist-packages (from python-dateutil->dateparser>=0.7.0->maya) (1.12.0)\n"
          ],
          "name": "stdout"
        }
      ]
    },
    {
      "cell_type": "code",
      "metadata": {
        "id": "a3ThDxk2r6W6",
        "colab_type": "code",
        "colab": {}
      },
      "source": [
        "\n",
        "import maya\n",
        "import pandas as pd\n",
        "import numpy as np\n",
        "import plotly.graph_objects as go\n",
        "import matplotlib.pyplot as plt"
      ],
      "execution_count": 0,
      "outputs": []
    },
    {
      "cell_type": "code",
      "metadata": {
        "id": "bBZxNa5xr9f8",
        "colab_type": "code",
        "outputId": "a2700b55-9be0-446d-a09d-ebd107c14e68",
        "colab": {
          "base_uri": "https://localhost:8080/",
          "height": 86
        }
      },
      "source": [
        "df = pd.read_csv(\"https://raw.githubusercontent.com/Jllin50/UFO/master/scrubbed.csv\")"
      ],
      "execution_count": 29,
      "outputs": [
        {
          "output_type": "stream",
          "text": [
            "/usr/local/lib/python3.6/dist-packages/IPython/core/interactiveshell.py:2718: DtypeWarning:\n",
            "\n",
            "Columns (5,9) have mixed types. Specify dtype option on import or set low_memory=False.\n",
            "\n"
          ],
          "name": "stderr"
        }
      ]
    },
    {
      "cell_type": "code",
      "metadata": {
        "id": "ykMPRChdyFoX",
        "colab_type": "code",
        "colab": {}
      },
      "source": [
        "df = df[df['country'] == 'us']"
      ],
      "execution_count": 0,
      "outputs": []
    },
    {
      "cell_type": "code",
      "metadata": {
        "id": "NeMfdxBoDHeY",
        "colab_type": "code",
        "outputId": "90bb77c4-6153-4c35-f96e-ac4a5e63dacf",
        "colab": {
          "base_uri": "https://localhost:8080/",
          "height": 86
        }
      },
      "source": [
        "df.columns"
      ],
      "execution_count": 31,
      "outputs": [
        {
          "output_type": "execute_result",
          "data": {
            "text/plain": [
              "Index(['datetime', 'city', 'state', 'country', 'shape', 'duration (seconds)',\n",
              "       'duration (hours/min)', 'comments', 'date posted', 'latitude',\n",
              "       'longitude '],\n",
              "      dtype='object')"
            ]
          },
          "metadata": {
            "tags": []
          },
          "execution_count": 31
        }
      ]
    },
    {
      "cell_type": "code",
      "metadata": {
        "id": "hppDUpvjPV6X",
        "colab_type": "code",
        "colab": {}
      },
      "source": [
        "df = df.rename(columns={\"longitude \": \"longitude\"})"
      ],
      "execution_count": 0,
      "outputs": []
    },
    {
      "cell_type": "code",
      "metadata": {
        "id": "9jS38kGKDKl5",
        "colab_type": "code",
        "outputId": "1c3d95a6-3897-4680-a968-08e1f8ddbfd1",
        "colab": {
          "base_uri": "https://localhost:8080/",
          "height": 34
        }
      },
      "source": [
        "df.shape"
      ],
      "execution_count": 33,
      "outputs": [
        {
          "output_type": "execute_result",
          "data": {
            "text/plain": [
              "(65114, 11)"
            ]
          },
          "metadata": {
            "tags": []
          },
          "execution_count": 33
        }
      ]
    },
    {
      "cell_type": "code",
      "metadata": {
        "id": "StXNILneIIzY",
        "colab_type": "code",
        "colab": {}
      },
      "source": [
        "df.reset_index(drop=True, inplace=True)"
      ],
      "execution_count": 0,
      "outputs": []
    },
    {
      "cell_type": "code",
      "metadata": {
        "id": "ZOBv0z0eAyhR",
        "colab_type": "code",
        "colab": {}
      },
      "source": [
        "year_list = []\n",
        "for i in range(len(df)):\n",
        "  try:\n",
        "    dt = maya.parse(df['datetime'][i]).datetime()\n",
        "    year_list.append(dt.year)\n",
        "  except:\n",
        "    year_list.append('NaN')\n",
        "\n",
        "  "
      ],
      "execution_count": 0,
      "outputs": []
    },
    {
      "cell_type": "code",
      "metadata": {
        "id": "SlhpbaktHpqR",
        "colab_type": "code",
        "colab": {}
      },
      "source": [
        "df['year'] = year_list"
      ],
      "execution_count": 0,
      "outputs": []
    },
    {
      "cell_type": "code",
      "metadata": {
        "id": "OfPDvnudGmy6",
        "colab_type": "code",
        "colab": {}
      },
      "source": [
        "year_group = df.groupby('year')"
      ],
      "execution_count": 0,
      "outputs": []
    },
    {
      "cell_type": "code",
      "metadata": {
        "id": "QsrV8iNyGsV1",
        "colab_type": "code",
        "colab": {}
      },
      "source": [
        "year_graph = year_group['datetime'].count()"
      ],
      "execution_count": 0,
      "outputs": []
    },
    {
      "cell_type": "code",
      "metadata": {
        "id": "eUPHoCFEGJtN",
        "colab_type": "code",
        "colab": {
          "base_uri": "https://localhost:8080/",
          "height": 242
        },
        "outputId": "e79f0f56-b220-413d-8068-df182993bf7d"
      },
      "source": [
        "year_graph"
      ],
      "execution_count": 39,
      "outputs": [
        {
          "output_type": "execute_result",
          "data": {
            "text/plain": [
              "year\n",
              "1910       1\n",
              "1920       1\n",
              "1925       1\n",
              "1929       1\n",
              "1931       2\n",
              "        ... \n",
              "2011    4352\n",
              "2012    6282\n",
              "2013    6024\n",
              "2014    1960\n",
              "NaN      487\n",
              "Name: datetime, Length: 84, dtype: int64"
            ]
          },
          "metadata": {
            "tags": []
          },
          "execution_count": 39
        }
      ]
    },
    {
      "cell_type": "markdown",
      "metadata": {
        "id": "kqNPICt755vX",
        "colab_type": "text"
      },
      "source": [
        "# Graphing UFO sightings by Year"
      ]
    },
    {
      "cell_type": "code",
      "metadata": {
        "id": "ClOhqF2nMdfg",
        "colab_type": "code",
        "colab": {
          "base_uri": "https://localhost:8080/",
          "height": 638
        },
        "outputId": "d6d5af11-1c2f-45e8-a8a5-19ac1279946f"
      },
      "source": [
        "fig, ax = plt.subplots(figsize=(20, 10))\n",
        "ax.set_ylabel('Sightings')\n",
        "year_graph.plot(title=\"UFO Sightings by Year\")\n",
        "ax.set_xlabel('Year')\n"
      ],
      "execution_count": 40,
      "outputs": [
        {
          "output_type": "execute_result",
          "data": {
            "text/plain": [
              "Text(0.5, 0, 'Year')"
            ]
          },
          "metadata": {
            "tags": []
          },
          "execution_count": 40
        },
        {
          "output_type": "display_data",
          "data": {
            "image/png": "[encoded data removed]",
            "text/plain": [
              "<Figure size 1440x720 with 1 Axes>"
            ]
          },
          "metadata": {
            "tags": []
          }
        }
      ]
    },
    {
      "cell_type": "code",
      "metadata": {
        "id": "5Ju2Vn_rHrHa",
        "colab_type": "code",
        "colab": {
          "base_uri": "https://localhost:8080/",
          "height": 202
        },
        "outputId": "0b2fa59c-72c9-41e9-e790-d4619a94192b"
      },
      "source": [
        "df.head()"
      ],
      "execution_count": 41,
      "outputs": [
        {
          "output_type": "execute_result",
          "data": {
            "text/html": [
              "<div>\n",
              "<style scoped>\n",
              "    .dataframe tbody tr th:only-of-type {\n",
              "        vertical-align: middle;\n",
              "    }\n",
              "\n",
              "    .dataframe tbody tr th {\n",
              "        vertical-align: top;\n",
              "    }\n",
              "\n",
              "    .dataframe thead th {\n",
              "        text-align: right;\n",
              "    }\n",
              "</style>\n",
              "<table border=\"1\" class=\"dataframe\">\n",
              "  <thead>\n",
              "    <tr style=\"text-align: right;\">\n",
              "      <th></th>\n",
              "      <th>datetime</th>\n",
              "      <th>city</th>\n",
              "      <th>state</th>\n",
              "      <th>country</th>\n",
              "      <th>shape</th>\n",
              "      <th>duration (seconds)</th>\n",
              "      <th>duration (hours/min)</th>\n",
              "      <th>comments</th>\n",
              "      <th>date posted</th>\n",
              "      <th>latitude</th>\n",
              "      <th>longitude</th>\n",
              "      <th>year</th>\n",
              "    </tr>\n",
              "  </thead>\n",
              "  <tbody>\n",
              "    <tr>\n",
              "      <th>0</th>\n",
              "      <td>10/10/1949 20:30</td>\n",
              "      <td>san marcos</td>\n",
              "      <td>tx</td>\n",
              "      <td>us</td>\n",
              "      <td>cylinder</td>\n",
              "      <td>2700</td>\n",
              "      <td>45 minutes</td>\n",
              "      <td>This event took place in early fall around 194...</td>\n",
              "      <td>4/27/2004</td>\n",
              "      <td>29.8830556</td>\n",
              "      <td>-97.941111</td>\n",
              "      <td>1949</td>\n",
              "    </tr>\n",
              "    <tr>\n",
              "      <th>1</th>\n",
              "      <td>10/10/1956 21:00</td>\n",
              "      <td>edna</td>\n",
              "      <td>tx</td>\n",
              "      <td>us</td>\n",
              "      <td>circle</td>\n",
              "      <td>20</td>\n",
              "      <td>1/2 hour</td>\n",
              "      <td>My older brother and twin sister were leaving ...</td>\n",
              "      <td>1/17/2004</td>\n",
              "      <td>28.9783333</td>\n",
              "      <td>-96.645833</td>\n",
              "      <td>1956</td>\n",
              "    </tr>\n",
              "    <tr>\n",
              "      <th>2</th>\n",
              "      <td>10/10/1960 20:00</td>\n",
              "      <td>kaneohe</td>\n",
              "      <td>hi</td>\n",
              "      <td>us</td>\n",
              "      <td>light</td>\n",
              "      <td>900</td>\n",
              "      <td>15 minutes</td>\n",
              "      <td>AS a Marine 1st Lt. flying an FJ4B fighter/att...</td>\n",
              "      <td>1/22/2004</td>\n",
              "      <td>21.4180556</td>\n",
              "      <td>-157.803611</td>\n",
              "      <td>1960</td>\n",
              "    </tr>\n",
              "    <tr>\n",
              "      <th>3</th>\n",
              "      <td>10/10/1961 19:00</td>\n",
              "      <td>bristol</td>\n",
              "      <td>tn</td>\n",
              "      <td>us</td>\n",
              "      <td>sphere</td>\n",
              "      <td>300</td>\n",
              "      <td>5 minutes</td>\n",
              "      <td>My father is now 89 my brother 52 the girl wit...</td>\n",
              "      <td>4/27/2007</td>\n",
              "      <td>36.5950000</td>\n",
              "      <td>-82.188889</td>\n",
              "      <td>1961</td>\n",
              "    </tr>\n",
              "    <tr>\n",
              "      <th>4</th>\n",
              "      <td>10/10/1965 23:45</td>\n",
              "      <td>norwalk</td>\n",
              "      <td>ct</td>\n",
              "      <td>us</td>\n",
              "      <td>disk</td>\n",
              "      <td>1200</td>\n",
              "      <td>20 minutes</td>\n",
              "      <td>A bright orange color changing to reddish colo...</td>\n",
              "      <td>10/2/1999</td>\n",
              "      <td>41.1175000</td>\n",
              "      <td>-73.408333</td>\n",
              "      <td>1965</td>\n",
              "    </tr>\n",
              "  </tbody>\n",
              "</table>\n",
              "</div>"
            ],
            "text/plain": [
              "           datetime        city state  ...    latitude   longitude  year\n",
              "0  10/10/1949 20:30  san marcos    tx  ...  29.8830556  -97.941111  1949\n",
              "1  10/10/1956 21:00        edna    tx  ...  28.9783333  -96.645833  1956\n",
              "2  10/10/1960 20:00     kaneohe    hi  ...  21.4180556 -157.803611  1960\n",
              "3  10/10/1961 19:00     bristol    tn  ...  36.5950000  -82.188889  1961\n",
              "4  10/10/1965 23:45     norwalk    ct  ...  41.1175000  -73.408333  1965\n",
              "\n",
              "[5 rows x 12 columns]"
            ]
          },
          "metadata": {
            "tags": []
          },
          "execution_count": 41
        }
      ]
    },
    {
      "cell_type": "code",
      "metadata": {
        "id": "iwW_CJy-Ghek",
        "colab_type": "code",
        "colab": {
          "base_uri": "https://localhost:8080/",
          "height": 104
        },
        "outputId": "397c017b-899b-448e-bf73-de8c9050ffb9"
      },
      "source": [
        "#finding the most frequent duration time\n",
        "df['duration (seconds)'].describe()"
      ],
      "execution_count": 42,
      "outputs": [
        {
          "output_type": "execute_result",
          "data": {
            "text/plain": [
              "count     65114\n",
              "unique      620\n",
              "top         300\n",
              "freq       5819\n",
              "Name: duration (seconds), dtype: object"
            ]
          },
          "metadata": {
            "tags": []
          },
          "execution_count": 42
        }
      ]
    },
    {
      "cell_type": "markdown",
      "metadata": {
        "id": "yHA7G1y-6D4R",
        "colab_type": "text"
      },
      "source": [
        "# Bar Plot for States with Most Sightings"
      ]
    },
    {
      "cell_type": "code",
      "metadata": {
        "id": "iFRpRIJ2vjwG",
        "colab_type": "code",
        "colab": {}
      },
      "source": [
        "heatmap = df.groupby('state')\n",
        "labels = ['California', 'Washington', 'Florida', 'Texas', 'New York' ]"
      ],
      "execution_count": 0,
      "outputs": []
    },
    {
      "cell_type": "code",
      "metadata": {
        "id": "HrAvzUtdPuXL",
        "colab_type": "code",
        "colab": {
          "base_uri": "https://localhost:8080/",
          "height": 641
        },
        "outputId": "6b0f5347-0cbd-40a9-fe7b-fae640587a83"
      },
      "source": [
        "width = 0.5  # the width of the bars\n",
        "alist = heatmap.count()['datetime'].sort_values(ascending = False)[:5].tolist()\n",
        "\n",
        "fig, ax= plt.subplots(figsize=(20,10), )\n",
        "rects1 = ax.bar(labels, alist, width,color='#EE6666')\n",
        "plt.grid(color='w', linestyle='solid')\n",
        "\n",
        "\n",
        "\n",
        "# Add some text for labels, title and custom x-axis tick labels, etc.\n",
        "ax.set_ylabel('Sightings')\n",
        "ax.set_facecolor('#E6E6E6')\n",
        "ax.set_axisbelow(True)\n",
        "ax.set_title('States/Territories with the Most Sightings')\n",
        "ax.set_xticklabels(labels)\n",
        "ax.legend()\n"
      ],
      "execution_count": 44,
      "outputs": [
        {
          "output_type": "stream",
          "text": [
            "No handles with labels found to put in legend.\n"
          ],
          "name": "stderr"
        },
        {
          "output_type": "execute_result",
          "data": {
            "text/plain": [
              "<matplotlib.legend.Legend at 0x7f78732feac8>"
            ]
          },
          "metadata": {
            "tags": []
          },
          "execution_count": 44
        },
        {
          "output_type": "display_data",
          "data": {
            "image/png": "[encoded data removed]",
            "text/plain": [
              "<Figure size 1440x720 with 1 Axes>"
            ]
          },
          "metadata": {
            "tags": []
          }
        }
      ]
    },
    {
      "cell_type": "code",
      "metadata": {
        "id": "RhNnXdxRVBwD",
        "colab_type": "code",
        "colab": {
          "base_uri": "https://localhost:8080/",
          "height": 138
        },
        "outputId": "9cffc8ca-cfbd-4029-ac9f-1828090ec88b"
      },
      "source": [
        "heatmap.count()['datetime'].sort_values()[:5]"
      ],
      "execution_count": 45,
      "outputs": [
        {
          "output_type": "execute_result",
          "data": {
            "text/plain": [
              "state\n",
              "dc      7\n",
              "pr     25\n",
              "nd    129\n",
              "de    166\n",
              "wy    175\n",
              "Name: datetime, dtype: int64"
            ]
          },
          "metadata": {
            "tags": []
          },
          "execution_count": 45
        }
      ]
    },
    {
      "cell_type": "markdown",
      "metadata": {
        "id": "TR3gheLs6c5o",
        "colab_type": "text"
      },
      "source": [
        "# "
      ]
    },
    {
      "cell_type": "code",
      "metadata": {
        "id": "g_P1MVjm9nbL",
        "colab_type": "code",
        "colab": {
          "base_uri": "https://localhost:8080/",
          "height": 641
        },
        "outputId": "71fb37b4-702c-4d31-8d72-659cff8a4b4d"
      },
      "source": [
        "#bottom 5 cities\n",
        "width = 0.5  # the width of the bars\n",
        "labels= ['Washington DC', 'Puerto Rico', 'North Dakota', 'Deleware', 'Wyoming']\n",
        "alist = heatmap.count()['datetime'].sort_values()[:5].tolist()\n",
        "\n",
        "fig, ax = plt.subplots(figsize=(20, 10))\n",
        "rects1 = ax.bar(labels, alist, width,color='#EE6666')\n",
        "plt.grid(color='w', linestyle='solid')\n",
        "\n",
        "\n",
        "\n",
        "\n",
        "\n",
        "# Add some text for labels, title and custom x-axis tick labels, etc.\n",
        "ax.set_ylabel('Sightings')\n",
        "ax.set_title('States/Territories with the Least Sightings')\n",
        "ax.set_xticklabels(labels)\n",
        "ax.set_axisbelow(True)\n",
        "\n",
        "ax.set_facecolor('#E6E6E6')\n",
        "\n",
        "ax.legend()\n"
      ],
      "execution_count": 46,
      "outputs": [
        {
          "output_type": "stream",
          "text": [
            "No handles with labels found to put in legend.\n"
          ],
          "name": "stderr"
        },
        {
          "output_type": "execute_result",
          "data": {
            "text/plain": [
              "<matplotlib.legend.Legend at 0x7f78732a8e10>"
            ]
          },
          "metadata": {
            "tags": []
          },
          "execution_count": 46
        },
        {
          "output_type": "display_data",
          "data": {
            "image/png": "[encoded data removed]",
            "text/plain": [
              "<Figure size 1440x720 with 1 Axes>"
            ]
          },
          "metadata": {
            "tags": []
          }
        }
      ]
    },
    {
      "cell_type": "code",
      "metadata": {
        "id": "tw_bTNZOE1vr",
        "colab_type": "code",
        "colab": {}
      },
      "source": [
        "locations = pd.read_csv('https://raw.githubusercontent.com/Jllin50/UFO/master/states.csv')"
      ],
      "execution_count": 0,
      "outputs": []
    },
    {
      "cell_type": "code",
      "metadata": {
        "id": "xzomdr-qPcsq",
        "colab_type": "code",
        "colab": {
          "base_uri": "https://localhost:8080/",
          "height": 202
        },
        "outputId": "4f580fad-0007-4692-8248-2346666063c2"
      },
      "source": [
        "locations.head()"
      ],
      "execution_count": 64,
      "outputs": [
        {
          "output_type": "execute_result",
          "data": {
            "text/html": [
              "<div>\n",
              "<style scoped>\n",
              "    .dataframe tbody tr th:only-of-type {\n",
              "        vertical-align: middle;\n",
              "    }\n",
              "\n",
              "    .dataframe tbody tr th {\n",
              "        vertical-align: top;\n",
              "    }\n",
              "\n",
              "    .dataframe thead th {\n",
              "        text-align: right;\n",
              "    }\n",
              "</style>\n",
              "<table border=\"1\" class=\"dataframe\">\n",
              "  <thead>\n",
              "    <tr style=\"text-align: right;\">\n",
              "      <th></th>\n",
              "      <th>State</th>\n",
              "      <th>Latitude</th>\n",
              "      <th>Longitude</th>\n",
              "      <th>Size</th>\n",
              "    </tr>\n",
              "  </thead>\n",
              "  <tbody>\n",
              "    <tr>\n",
              "      <th>0</th>\n",
              "      <td>wi</td>\n",
              "      <td>44.5</td>\n",
              "      <td>-89.500000</td>\n",
              "      <td>1232.0</td>\n",
              "    </tr>\n",
              "    <tr>\n",
              "      <th>1</th>\n",
              "      <td>wv</td>\n",
              "      <td>39.0</td>\n",
              "      <td>-80.500000</td>\n",
              "      <td>448.0</td>\n",
              "    </tr>\n",
              "    <tr>\n",
              "      <th>2</th>\n",
              "      <td>vt</td>\n",
              "      <td>44.0</td>\n",
              "      <td>-72.699997</td>\n",
              "      <td>260.0</td>\n",
              "    </tr>\n",
              "    <tr>\n",
              "      <th>3</th>\n",
              "      <td>tx</td>\n",
              "      <td>31.0</td>\n",
              "      <td>-100.000000</td>\n",
              "      <td>3447.0</td>\n",
              "    </tr>\n",
              "    <tr>\n",
              "      <th>4</th>\n",
              "      <td>sd</td>\n",
              "      <td>44.5</td>\n",
              "      <td>-100.000000</td>\n",
              "      <td>183.0</td>\n",
              "    </tr>\n",
              "  </tbody>\n",
              "</table>\n",
              "</div>"
            ],
            "text/plain": [
              "  State  Latitude   Longitude    Size\n",
              "0    wi      44.5  -89.500000  1232.0\n",
              "1    wv      39.0  -80.500000   448.0\n",
              "2    vt      44.0  -72.699997   260.0\n",
              "3    tx      31.0 -100.000000  3447.0\n",
              "4    sd      44.5 -100.000000   183.0"
            ]
          },
          "metadata": {
            "tags": []
          },
          "execution_count": 64
        }
      ]
    },
    {
      "cell_type": "code",
      "metadata": {
        "id": "ILE1LPo3p22y",
        "colab_type": "code",
        "colab": {
          "base_uri": "https://localhost:8080/",
          "height": 138
        },
        "outputId": "3732636f-8139-4029-9ab2-bab8046fde7b"
      },
      "source": [
        "test = df.groupby('city')\n",
        "test['datetime'].count().sort_values(ascending=False)[:5]"
      ],
      "execution_count": 49,
      "outputs": [
        {
          "output_type": "execute_result",
          "data": {
            "text/plain": [
              "city\n",
              "seattle        524\n",
              "phoenix        454\n",
              "portland       373\n",
              "las vegas      367\n",
              "los angeles    352\n",
              "Name: datetime, dtype: int64"
            ]
          },
          "metadata": {
            "tags": []
          },
          "execution_count": 49
        }
      ]
    },
    {
      "cell_type": "code",
      "metadata": {
        "id": "Pp91c9psqDp-",
        "colab_type": "code",
        "colab": {
          "base_uri": "https://localhost:8080/",
          "height": 641
        },
        "outputId": "61c0c2e7-6df8-4f72-d6e8-725a9eaabe36"
      },
      "source": [
        "alist = test['datetime'].count().sort_values(ascending=False)[:5].to_list()\n",
        "labels= ['Seattle', 'Phoenix', 'Portland', 'Las Vegas', 'Los Angeles']\n",
        "\n",
        "fig, ax = plt.subplots(figsize=(20, 10))\n",
        "rects1 = ax.bar(labels, alist, width,color='#add8e6')\n",
        "plt.grid(color='w', linestyle='solid')\n",
        "\n",
        "\n",
        "\n",
        "\n",
        "\n",
        "\n",
        "# Add some text for labels, title and custom x-axis tick labels, etc.\n",
        "ax.set_ylabel('Sightings')\n",
        "ax.set_title('Cities with the Most Sightings')\n",
        "ax.set_xticklabels(labels)\n",
        "ax.set_axisbelow(True)\n",
        "\n",
        "ax.set_facecolor('#E6E6E6')\n",
        "\n",
        "ax.legend()\n",
        "\n",
        "\n",
        "\n"
      ],
      "execution_count": 52,
      "outputs": [
        {
          "output_type": "stream",
          "text": [
            "No handles with labels found to put in legend.\n"
          ],
          "name": "stderr"
        },
        {
          "output_type": "execute_result",
          "data": {
            "text/plain": [
              "<matplotlib.legend.Legend at 0x7f78731ce588>"
            ]
          },
          "metadata": {
            "tags": []
          },
          "execution_count": 52
        },
        {
          "output_type": "display_data",
          "data": {
            "image/png": "[encoded data removed]",
            "text/plain": [
              "<Figure size 1440x720 with 1 Axes>"
            ]
          },
          "metadata": {
            "tags": []
          }
        }
      ]
    },
    {
      "cell_type": "code",
      "metadata": {
        "id": "3QMLnZYC4hcZ",
        "colab_type": "code",
        "colab": {
          "base_uri": "https://localhost:8080/",
          "height": 398
        },
        "outputId": "4cde2574-49e9-4df1-8205-3983e504c2a6"
      },
      "source": [
        "test['datetime'].count().sort_values(ascending=False)[:20]"
      ],
      "execution_count": 57,
      "outputs": [
        {
          "output_type": "execute_result",
          "data": {
            "text/plain": [
              "city\n",
              "seattle          524\n",
              "phoenix          454\n",
              "portland         373\n",
              "las vegas        367\n",
              "los angeles      352\n",
              "san diego        338\n",
              "houston          297\n",
              "chicago          264\n",
              "tucson           241\n",
              "miami            239\n",
              "austin           218\n",
              "orlando          218\n",
              "springfield      214\n",
              "albuquerque      213\n",
              "sacramento       201\n",
              "columbus         200\n",
              "san jose         189\n",
              "san francisco    186\n",
              "denver           185\n",
              "san antonio      175\n",
              "Name: datetime, dtype: int64"
            ]
          },
          "metadata": {
            "tags": []
          },
          "execution_count": 57
        }
      ]
    },
    {
      "cell_type": "code",
      "metadata": {
        "id": "a0gRcUz5qfc5",
        "colab_type": "code",
        "colab": {
          "base_uri": "https://localhost:8080/",
          "height": 138
        },
        "outputId": "ab940697-4861-4826-aaa6-a3eb8e26a195"
      },
      "source": [
        "test['datetime'].count().sort_values()[:5]"
      ],
      "execution_count": 129,
      "outputs": [
        {
          "output_type": "execute_result",
          "data": {
            "text/plain": [
              "city\n",
              "locust fork                       1\n",
              "merkel                            1\n",
              "meriwether county (rural)         1\n",
              "meriwether county (greenville)    1\n",
              "meriwether  county (rural)        1\n",
              "Name: datetime, dtype: int64"
            ]
          },
          "metadata": {
            "tags": []
          },
          "execution_count": 129
        }
      ]
    },
    {
      "cell_type": "code",
      "metadata": {
        "id": "Df7K8alkqIYr",
        "colab_type": "code",
        "colab": {}
      },
      "source": [
        "population = pd.read_csv('https://raw.githubusercontent.com/Jllin50/UFO/master/data.csv')"
      ],
      "execution_count": 0,
      "outputs": []
    },
    {
      "cell_type": "code",
      "metadata": {
        "id": "gysTgWxqq_BG",
        "colab_type": "code",
        "colab": {
          "base_uri": "https://localhost:8080/",
          "height": 202
        },
        "outputId": "c99e43ad-dd8e-4388-b70b-6d6e26e7b24d"
      },
      "source": [
        "population.head()"
      ],
      "execution_count": 56,
      "outputs": [
        {
          "output_type": "execute_result",
          "data": {
            "text/html": [
              "<div>\n",
              "<style scoped>\n",
              "    .dataframe tbody tr th:only-of-type {\n",
              "        vertical-align: middle;\n",
              "    }\n",
              "\n",
              "    .dataframe tbody tr th {\n",
              "        vertical-align: top;\n",
              "    }\n",
              "\n",
              "    .dataframe thead th {\n",
              "        text-align: right;\n",
              "    }\n",
              "</style>\n",
              "<table border=\"1\" class=\"dataframe\">\n",
              "  <thead>\n",
              "    <tr style=\"text-align: right;\">\n",
              "      <th></th>\n",
              "      <th>rank</th>\n",
              "      <th>State</th>\n",
              "      <th>Pop</th>\n",
              "      <th>Growth</th>\n",
              "      <th>Pop2018</th>\n",
              "      <th>Pop2010</th>\n",
              "      <th>growthSince2010</th>\n",
              "      <th>Percent</th>\n",
              "      <th>density</th>\n",
              "    </tr>\n",
              "  </thead>\n",
              "  <tbody>\n",
              "    <tr>\n",
              "      <th>0</th>\n",
              "      <td>1</td>\n",
              "      <td>California</td>\n",
              "      <td>39937489</td>\n",
              "      <td>0.0096</td>\n",
              "      <td>39557045</td>\n",
              "      <td>37320903</td>\n",
              "      <td>0.0701</td>\n",
              "      <td>0.1194</td>\n",
              "      <td>256.3727</td>\n",
              "    </tr>\n",
              "    <tr>\n",
              "      <th>1</th>\n",
              "      <td>2</td>\n",
              "      <td>Texas</td>\n",
              "      <td>29472295</td>\n",
              "      <td>0.0268</td>\n",
              "      <td>28701845</td>\n",
              "      <td>25242679</td>\n",
              "      <td>0.1676</td>\n",
              "      <td>0.0881</td>\n",
              "      <td>112.8204</td>\n",
              "    </tr>\n",
              "    <tr>\n",
              "      <th>2</th>\n",
              "      <td>3</td>\n",
              "      <td>Florida</td>\n",
              "      <td>21992985</td>\n",
              "      <td>0.0326</td>\n",
              "      <td>21299325</td>\n",
              "      <td>18845785</td>\n",
              "      <td>0.1670</td>\n",
              "      <td>0.0658</td>\n",
              "      <td>410.1256</td>\n",
              "    </tr>\n",
              "    <tr>\n",
              "      <th>3</th>\n",
              "      <td>4</td>\n",
              "      <td>New York</td>\n",
              "      <td>19440469</td>\n",
              "      <td>-0.0052</td>\n",
              "      <td>19542209</td>\n",
              "      <td>19400080</td>\n",
              "      <td>0.0021</td>\n",
              "      <td>0.0581</td>\n",
              "      <td>412.5211</td>\n",
              "    </tr>\n",
              "    <tr>\n",
              "      <th>4</th>\n",
              "      <td>5</td>\n",
              "      <td>Pennsylvania</td>\n",
              "      <td>12820878</td>\n",
              "      <td>0.0011</td>\n",
              "      <td>12807060</td>\n",
              "      <td>12711158</td>\n",
              "      <td>0.0086</td>\n",
              "      <td>0.0383</td>\n",
              "      <td>286.5449</td>\n",
              "    </tr>\n",
              "  </tbody>\n",
              "</table>\n",
              "</div>"
            ],
            "text/plain": [
              "   rank         State       Pop  ...  growthSince2010  Percent   density\n",
              "0     1    California  39937489  ...           0.0701   0.1194  256.3727\n",
              "1     2         Texas  29472295  ...           0.1676   0.0881  112.8204\n",
              "2     3       Florida  21992985  ...           0.1670   0.0658  410.1256\n",
              "3     4      New York  19440469  ...           0.0021   0.0581  412.5211\n",
              "4     5  Pennsylvania  12820878  ...           0.0086   0.0383  286.5449\n",
              "\n",
              "[5 rows x 9 columns]"
            ]
          },
          "metadata": {
            "tags": []
          },
          "execution_count": 56
        }
      ]
    },
    {
      "cell_type": "markdown",
      "metadata": {
        "id": "6iCfjHaJDZdH",
        "colab_type": "text"
      },
      "source": [
        ""
      ]
    }
  ]
}